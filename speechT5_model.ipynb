{
 "cells": [
  {
   "cell_type": "code",
   "execution_count": 1,
   "id": "359e4cfc-c575-4557-aa98-e45b2ebaf33b",
   "metadata": {},
   "outputs": [
    {
     "data": {
      "text/plain": [
       "'\\nSpeaker Model - For multiple speakers \\nTo enable the TTS model to differentiate between multiple speakers, you’ll need to create a speaker embedding for each example. \\nThe speaker embedding is an additional input into the model that captures a particular speaker’s voice characteristics. \\n\\n\\nDataset format - \\n\\n'"
      ]
     },
     "execution_count": 1,
     "metadata": {},
     "output_type": "execute_result"
    }
   ],
   "source": [
    "'''\n",
    "Speaker Model - For multiple speakers \n",
    "To enable the TTS model to differentiate between multiple speakers, you’ll need to create a speaker embedding for each example. \n",
    "The speaker embedding is an additional input into the model that captures a particular speaker’s voice characteristics. \n",
    "\n",
    "\n",
    "Dataset format - \n",
    "SpeechT5Processor object to tokenize the input text and load the target audio into a log-mel spectrogram. \n",
    "It should also add the speaker embeddings as an additional input.\n",
    "\n",
    "- Audio inputs are padded by SpeechT5FeatureExtractor’s pad().\n",
    "- Text inputs are padded by SpeechT5Tokenizer’s pad().\n",
    "\n",
    "'''"
   ]
  },
  {
   "cell_type": "code",
   "execution_count": 3,
   "id": "2ed14a8e-5c28-4135-adfb-fd830a0c30cb",
   "metadata": {},
   "outputs": [
    {
     "data": {
      "text/plain": [
       "'\\ninput_ids only\\ninput_values only\\nlabels only, either log-mel spectrograms or text tokens\\ninput_ids and log-mel spectrogram labels\\ninput_values and text labels\\n'"
      ]
     },
     "execution_count": 3,
     "metadata": {},
     "output_type": "execute_result"
    }
   ],
   "source": [
    "from transformers import SpeechT5Processor\n",
    "\n",
    "# general processor \n",
    "processor = SpeechT5Processor.from_pretrained(\"microsoft/speecht5_tts\")\n",
    "\n",
    "\n",
    "'''\n",
    "input_ids only\n",
    "input_values only\n",
    "labels only, either log-mel spectrograms or text tokens\n",
    "input_ids and log-mel spectrogram labels\n",
    "input_values and text labels\n",
    "'''\n",
    "\n"
   ]
  },
  {
   "cell_type": "code",
   "execution_count": 23,
   "id": "305f9bad-a73e-4dbf-b9a4-0c2e13f6658b",
   "metadata": {},
   "outputs": [],
   "source": [
    "tokenizer = processor.tokenizer\n",
    "feature_extractor = processor.feature_extractor"
   ]
  },
  {
   "cell_type": "code",
   "execution_count": 24,
   "id": "104e500b-20d9-4954-b866-1523dce42ae1",
   "metadata": {},
   "outputs": [
    {
     "data": {
      "text/plain": [
       "SpeechT5Tokenizer(name_or_path='microsoft/speecht5_tts', vocab_size=79, model_max_length=600, is_fast=False, padding_side='right', truncation_side='right', special_tokens={'bos_token': '<s>', 'eos_token': '</s>', 'unk_token': '<unk>', 'pad_token': '<pad>', 'mask_token': '<mask>'}, clean_up_tokenization_spaces=True),  added_tokens_decoder={\n",
       "\t0: AddedToken(\"<s>\", rstrip=False, lstrip=False, single_word=False, normalized=False, special=True),\n",
       "\t1: AddedToken(\"<pad>\", rstrip=False, lstrip=False, single_word=False, normalized=False, special=True),\n",
       "\t2: AddedToken(\"</s>\", rstrip=False, lstrip=False, single_word=False, normalized=False, special=True),\n",
       "\t3: AddedToken(\"<unk>\", rstrip=False, lstrip=False, single_word=False, normalized=False, special=True),\n",
       "\t79: AddedToken(\"<mask>\", rstrip=False, lstrip=True, single_word=False, normalized=True, special=True),\n",
       "\t80: AddedToken(\"<ctc_blank>\", rstrip=False, lstrip=False, single_word=False, normalized=True, special=False),\n",
       "}"
      ]
     },
     "execution_count": 24,
     "metadata": {},
     "output_type": "execute_result"
    }
   ],
   "source": [
    "tokenizer"
   ]
  },
  {
   "cell_type": "code",
   "execution_count": 25,
   "id": "dc25cbcd-5c9c-4c63-abd5-c9fbc5fb7ed8",
   "metadata": {},
   "outputs": [
    {
     "data": {
      "text/plain": [
       "SpeechT5FeatureExtractor {\n",
       "  \"do_normalize\": false,\n",
       "  \"feature_extractor_type\": \"SpeechT5FeatureExtractor\",\n",
       "  \"feature_size\": 1,\n",
       "  \"fmax\": 7600,\n",
       "  \"fmin\": 80,\n",
       "  \"frame_signal_scale\": 1.0,\n",
       "  \"hop_length\": 16,\n",
       "  \"mel_floor\": 1e-10,\n",
       "  \"num_mel_bins\": 80,\n",
       "  \"padding_side\": \"right\",\n",
       "  \"padding_value\": 0.0,\n",
       "  \"processor_class\": \"SpeechT5Processor\",\n",
       "  \"reduction_factor\": 2,\n",
       "  \"return_attention_mask\": true,\n",
       "  \"sampling_rate\": 16000,\n",
       "  \"win_function\": \"hann_window\",\n",
       "  \"win_length\": 64\n",
       "}"
      ]
     },
     "execution_count": 25,
     "metadata": {},
     "output_type": "execute_result"
    }
   ],
   "source": [
    "feature_extractor"
   ]
  },
  {
   "cell_type": "code",
   "execution_count": 17,
   "id": "5271fcff-3021-4b57-90a6-1e1190394cd7",
   "metadata": {},
   "outputs": [
    {
     "data": {
      "text/plain": [
       "{'input_ids': tensor([[1, 2, 3, 4]]), 'attention_mask': tensor([[1, 1, 1, 1]])}"
      ]
     },
     "execution_count": 17,
     "metadata": {},
     "output_type": "execute_result"
    }
   ],
   "source": [
    "import torch \n",
    "input_ids = [{\"input_ids\": torch.tensor([1, 2, 3, 4])}]\n",
    "tokenizer.pad(input_ids, padding = True)"
   ]
  },
  {
   "cell_type": "code",
   "execution_count": 28,
   "id": "f21d8635-c79a-4513-8b23-0069ef6df6ff",
   "metadata": {},
   "outputs": [
    {
     "data": {
      "text/plain": [
       "{'input_ids': [4, 32, 11, 10, 12, 4, 10, 12, 4, 7, 4, 12, 6, 13, 10, 9, 21, 2, 1, 1, 1, 1, 1, 1, 1, 1, 1, 1, 1, 1, 1, 1, 1, 1, 1, 1, 1, 1, 1, 1, 1, 1, 1, 1, 1, 1, 1, 1, 1, 1, 1, 1, 1, 1, 1, 1, 1, 1, 1, 1, 1, 1, 1, 1, 1, 1, 1, 1, 1, 1, 1, 1, 1, 1, 1, 1, 1, 1, 1, 1, 1, 1, 1, 1, 1, 1, 1, 1, 1, 1, 1, 1, 1, 1, 1, 1, 1, 1, 1, 1, 1, 1, 1, 1, 1, 1, 1, 1, 1, 1, 1, 1, 1, 1, 1, 1, 1, 1, 1, 1, 1, 1, 1, 1, 1, 1, 1, 1, 1, 1, 1, 1, 1, 1, 1, 1, 1, 1, 1, 1, 1, 1, 1, 1, 1, 1, 1, 1, 1, 1, 1, 1, 1, 1, 1, 1, 1, 1, 1, 1, 1, 1, 1, 1, 1, 1, 1, 1, 1, 1, 1, 1, 1, 1, 1, 1, 1, 1, 1, 1, 1, 1, 1, 1, 1, 1, 1, 1, 1, 1, 1, 1, 1, 1, 1, 1, 1, 1, 1, 1, 1, 1, 1, 1, 1, 1, 1, 1, 1, 1, 1, 1, 1, 1, 1, 1, 1, 1, 1, 1, 1, 1, 1, 1, 1, 1, 1, 1, 1, 1, 1, 1, 1, 1, 1, 1, 1, 1, 1, 1, 1, 1, 1, 1, 1, 1, 1, 1, 1, 1, 1, 1, 1, 1, 1, 1, 1, 1, 1, 1, 1, 1, 1, 1, 1, 1, 1, 1, 1, 1, 1, 1, 1, 1, 1, 1, 1, 1, 1, 1, 1, 1, 1, 1, 1, 1, 1, 1, 1, 1, 1, 1, 1, 1, 1, 1, 1, 1, 1, 1, 1, 1, 1, 1, 1, 1, 1, 1, 1, 1, 1, 1, 1, 1, 1, 1, 1, 1, 1, 1, 1, 1, 1, 1, 1, 1, 1, 1, 1, 1, 1, 1, 1, 1, 1, 1, 1, 1, 1, 1, 1, 1, 1, 1, 1, 1, 1, 1, 1, 1, 1, 1, 1, 1, 1, 1, 1, 1, 1, 1, 1, 1, 1, 1, 1, 1, 1, 1, 1, 1, 1, 1, 1, 1, 1, 1, 1, 1, 1, 1, 1, 1, 1, 1, 1, 1, 1, 1, 1, 1, 1, 1, 1, 1, 1, 1, 1, 1, 1, 1, 1, 1, 1, 1, 1, 1, 1, 1, 1, 1, 1, 1, 1, 1, 1, 1, 1, 1, 1, 1, 1, 1, 1, 1, 1, 1, 1, 1, 1, 1, 1, 1, 1, 1, 1, 1, 1, 1, 1, 1, 1, 1, 1, 1, 1, 1, 1, 1, 1, 1, 1, 1, 1, 1, 1, 1, 1, 1, 1, 1, 1, 1, 1, 1, 1, 1, 1, 1, 1, 1, 1, 1, 1, 1, 1, 1, 1, 1, 1, 1, 1, 1, 1, 1, 1, 1, 1, 1, 1, 1, 1, 1, 1, 1, 1, 1, 1, 1, 1, 1, 1, 1, 1, 1, 1, 1, 1, 1, 1, 1, 1, 1, 1, 1, 1, 1, 1, 1, 1, 1, 1, 1, 1, 1, 1, 1, 1, 1, 1, 1, 1, 1, 1, 1, 1, 1, 1, 1, 1, 1, 1, 1, 1, 1, 1, 1, 1, 1, 1, 1, 1, 1, 1, 1, 1, 1, 1, 1, 1, 1, 1, 1, 1, 1, 1, 1, 1, 1, 1, 1, 1, 1, 1, 1, 1, 1, 1, 1, 1, 1, 1, 1, 1, 1, 1, 1, 1, 1, 1, 1, 1, 1, 1, 1, 1, 1, 1, 1, 1, 1], 'attention_mask': [1, 1, 1, 1, 1, 1, 1, 1, 1, 1, 1, 1, 1, 1, 1, 1, 1, 1, 0, 0, 0, 0, 0, 0, 0, 0, 0, 0, 0, 0, 0, 0, 0, 0, 0, 0, 0, 0, 0, 0, 0, 0, 0, 0, 0, 0, 0, 0, 0, 0, 0, 0, 0, 0, 0, 0, 0, 0, 0, 0, 0, 0, 0, 0, 0, 0, 0, 0, 0, 0, 0, 0, 0, 0, 0, 0, 0, 0, 0, 0, 0, 0, 0, 0, 0, 0, 0, 0, 0, 0, 0, 0, 0, 0, 0, 0, 0, 0, 0, 0, 0, 0, 0, 0, 0, 0, 0, 0, 0, 0, 0, 0, 0, 0, 0, 0, 0, 0, 0, 0, 0, 0, 0, 0, 0, 0, 0, 0, 0, 0, 0, 0, 0, 0, 0, 0, 0, 0, 0, 0, 0, 0, 0, 0, 0, 0, 0, 0, 0, 0, 0, 0, 0, 0, 0, 0, 0, 0, 0, 0, 0, 0, 0, 0, 0, 0, 0, 0, 0, 0, 0, 0, 0, 0, 0, 0, 0, 0, 0, 0, 0, 0, 0, 0, 0, 0, 0, 0, 0, 0, 0, 0, 0, 0, 0, 0, 0, 0, 0, 0, 0, 0, 0, 0, 0, 0, 0, 0, 0, 0, 0, 0, 0, 0, 0, 0, 0, 0, 0, 0, 0, 0, 0, 0, 0, 0, 0, 0, 0, 0, 0, 0, 0, 0, 0, 0, 0, 0, 0, 0, 0, 0, 0, 0, 0, 0, 0, 0, 0, 0, 0, 0, 0, 0, 0, 0, 0, 0, 0, 0, 0, 0, 0, 0, 0, 0, 0, 0, 0, 0, 0, 0, 0, 0, 0, 0, 0, 0, 0, 0, 0, 0, 0, 0, 0, 0, 0, 0, 0, 0, 0, 0, 0, 0, 0, 0, 0, 0, 0, 0, 0, 0, 0, 0, 0, 0, 0, 0, 0, 0, 0, 0, 0, 0, 0, 0, 0, 0, 0, 0, 0, 0, 0, 0, 0, 0, 0, 0, 0, 0, 0, 0, 0, 0, 0, 0, 0, 0, 0, 0, 0, 0, 0, 0, 0, 0, 0, 0, 0, 0, 0, 0, 0, 0, 0, 0, 0, 0, 0, 0, 0, 0, 0, 0, 0, 0, 0, 0, 0, 0, 0, 0, 0, 0, 0, 0, 0, 0, 0, 0, 0, 0, 0, 0, 0, 0, 0, 0, 0, 0, 0, 0, 0, 0, 0, 0, 0, 0, 0, 0, 0, 0, 0, 0, 0, 0, 0, 0, 0, 0, 0, 0, 0, 0, 0, 0, 0, 0, 0, 0, 0, 0, 0, 0, 0, 0, 0, 0, 0, 0, 0, 0, 0, 0, 0, 0, 0, 0, 0, 0, 0, 0, 0, 0, 0, 0, 0, 0, 0, 0, 0, 0, 0, 0, 0, 0, 0, 0, 0, 0, 0, 0, 0, 0, 0, 0, 0, 0, 0, 0, 0, 0, 0, 0, 0, 0, 0, 0, 0, 0, 0, 0, 0, 0, 0, 0, 0, 0, 0, 0, 0, 0, 0, 0, 0, 0, 0, 0, 0, 0, 0, 0, 0, 0, 0, 0, 0, 0, 0, 0, 0, 0, 0, 0, 0, 0, 0, 0, 0, 0, 0, 0, 0, 0, 0, 0, 0, 0, 0, 0, 0, 0, 0, 0, 0, 0, 0, 0, 0, 0, 0, 0, 0, 0, 0, 0, 0, 0, 0, 0, 0, 0, 0, 0, 0, 0, 0, 0, 0, 0, 0, 0, 0, 0, 0, 0, 0, 0, 0, 0, 0, 0, 0, 0, 0, 0, 0, 0, 0, 0, 0, 0, 0, 0, 0, 0, 0, 0, 0, 0, 0, 0, 0, 0, 0, 0, 0, 0, 0, 0]}"
      ]
     },
     "execution_count": 28,
     "metadata": {},
     "output_type": "execute_result"
    }
   ],
   "source": [
    "tokenizer(text = 'This is a string', padding = 'max_length')"
   ]
  },
  {
   "cell_type": "code",
   "execution_count": 44,
   "id": "7945f9c4-91c2-42d4-8c42-ea9c0ac78f0a",
   "metadata": {},
   "outputs": [
    {
     "name": "stderr",
     "output_type": "stream",
     "text": [
      "<>:1: SyntaxWarning: list indices must be integers or slices, not float; perhaps you missed a comma?\n",
      "<>:1: SyntaxWarning: list indices must be integers or slices, not float; perhaps you missed a comma?\n",
      "/var/folders/f4/4mwvrr4x2dg6l94x0rks7ypr0000gn/T/ipykernel_7064/695497982.py:1: SyntaxWarning: list indices must be integers or slices, not float; perhaps you missed a comma?\n",
      "  labels = torch.tensor([[[-4.6002865  -4.979547   -4.5412726  -5.4348593  -5.4099646\n",
      "/var/folders/f4/4mwvrr4x2dg6l94x0rks7ypr0000gn/T/ipykernel_7064/695497982.py:1: SyntaxWarning: list indices must be integers or slices, not float; perhaps you missed a comma?\n",
      "  labels = torch.tensor([[[-4.6002865  -4.979547   -4.5412726  -5.4348593  -5.4099646\n",
      "/var/folders/f4/4mwvrr4x2dg6l94x0rks7ypr0000gn/T/ipykernel_7064/695497982.py:1: SyntaxWarning: list indices must be integers or slices, not float; perhaps you missed a comma?\n",
      "  labels = torch.tensor([[[-4.6002865  -4.979547   -4.5412726  -5.4348593  -5.4099646\n",
      "/var/folders/f4/4mwvrr4x2dg6l94x0rks7ypr0000gn/T/ipykernel_7064/695497982.py:1: SyntaxWarning: list indices must be integers or slices, not float; perhaps you missed a comma?\n",
      "  labels = torch.tensor([[[-4.6002865  -4.979547   -4.5412726  -5.4348593  -5.4099646\n",
      "/var/folders/f4/4mwvrr4x2dg6l94x0rks7ypr0000gn/T/ipykernel_7064/695497982.py:1: SyntaxWarning: list indices must be integers or slices, not float; perhaps you missed a comma?\n",
      "  labels = torch.tensor([[[-4.6002865  -4.979547   -4.5412726  -5.4348593  -5.4099646\n",
      "/var/folders/f4/4mwvrr4x2dg6l94x0rks7ypr0000gn/T/ipykernel_7064/695497982.py:1: SyntaxWarning: list indices must be integers or slices, not float; perhaps you missed a comma?\n",
      "  labels = torch.tensor([[[-4.6002865  -4.979547   -4.5412726  -5.4348593  -5.4099646\n",
      "/var/folders/f4/4mwvrr4x2dg6l94x0rks7ypr0000gn/T/ipykernel_7064/695497982.py:1: SyntaxWarning: list indices must be integers or slices, not float; perhaps you missed a comma?\n",
      "  labels = torch.tensor([[[-4.6002865  -4.979547   -4.5412726  -5.4348593  -5.4099646\n"
     ]
    },
    {
     "ename": "TypeError",
     "evalue": "list indices must be integers or slices, not float",
     "output_type": "error",
     "traceback": [
      "\u001b[0;31m---------------------------------------------------------------------------\u001b[0m",
      "\u001b[0;31mTypeError\u001b[0m                                 Traceback (most recent call last)",
      "Cell \u001b[0;32mIn[44], line 1\u001b[0m\n\u001b[0;32m----> 1\u001b[0m labels \u001b[38;5;241m=\u001b[39m torch\u001b[38;5;241m.\u001b[39mtensor([[\u001b[43m[\u001b[49m\u001b[38;5;241;43m-\u001b[39;49m\u001b[38;5;241;43m4.6002865\u001b[39;49m\u001b[43m  \u001b[49m\u001b[38;5;241;43m-\u001b[39;49m\u001b[38;5;241;43m4.979547\u001b[39;49m\u001b[43m   \u001b[49m\u001b[38;5;241;43m-\u001b[39;49m\u001b[38;5;241;43m4.5412726\u001b[39;49m\u001b[43m  \u001b[49m\u001b[38;5;241;43m-\u001b[39;49m\u001b[38;5;241;43m5.4348593\u001b[39;49m\u001b[43m  \u001b[49m\u001b[38;5;241;43m-\u001b[39;49m\u001b[38;5;241;43m5.4099646\u001b[39;49m\n\u001b[1;32m      2\u001b[0m \u001b[43m   \u001b[49m\u001b[38;5;241;43m-\u001b[39;49m\u001b[38;5;241;43m5.292315\u001b[39;49m\u001b[43m  \u001b[49m\u001b[43m]\u001b[49m\n\u001b[1;32m      3\u001b[0m \u001b[43m  \u001b[49m\u001b[43m[\u001b[49m\u001b[38;5;241;43m-\u001b[39;49m\u001b[38;5;241;43m4.3910785\u001b[39;49m\u001b[43m  \u001b[49m\u001b[38;5;241;43m-\u001b[39;49m\u001b[38;5;241;43m4.2226057\u001b[39;49m\u001b[43m  \u001b[49m\u001b[38;5;241;43m-\u001b[39;49m\u001b[38;5;241;43m4.060492\u001b[39;49m\u001b[43m  \u001b[49m\u001b[38;5;241;43m-\u001b[39;49m\u001b[38;5;241;43m5.3464994\u001b[39;49m\u001b[43m  \u001b[49m\u001b[38;5;241;43m-\u001b[39;49m\u001b[38;5;241;43m5.317573\u001b[39;49m\n\u001b[1;32m      4\u001b[0m \u001b[43m   \u001b[49m\u001b[38;5;241;43m-\u001b[39;49m\u001b[38;5;241;43m5.221275\u001b[39;49m\u001b[43m  \u001b[49m\u001b[43m]\u001b[49m\n\u001b[1;32m      5\u001b[0m   [\u001b[38;5;241m-\u001b[39m\u001b[38;5;241m2.715779\u001b[39m   \u001b[38;5;241m-\u001b[39m\u001b[38;5;241m2.6363328\u001b[39m  \u001b[38;5;241m-\u001b[39m\u001b[38;5;241m2.4609628\u001b[39m  \u001b[38;5;241m-\u001b[39m\u001b[38;5;241m5.2194066\u001b[39m  \u001b[38;5;241m-\u001b[39m\u001b[38;5;241m5.199618\u001b[39m\n\u001b[1;32m      6\u001b[0m    \u001b[38;5;241m-\u001b[39m\u001b[38;5;241m5.224335\u001b[39m  ]\n\u001b[1;32m      7\u001b[0m   [\u001b[38;5;241m-\u001b[39m\u001b[38;5;241m0.49069065\u001b[39m \u001b[38;5;241m-\u001b[39m\u001b[38;5;241m0.50091654\u001b[39m \u001b[38;5;241m-\u001b[39m\u001b[38;5;241m1.5361357\u001b[39m  \u001b[38;5;241m-\u001b[39m\u001b[38;5;241m5.196307\u001b[39m   \u001b[38;5;241m-\u001b[39m\u001b[38;5;241m5.1759033\u001b[39m\n\u001b[1;32m      8\u001b[0m    \u001b[38;5;241m-\u001b[39m\u001b[38;5;241m5.1624002\u001b[39m ]\n\u001b[1;32m      9\u001b[0m   [\u001b[38;5;241m-\u001b[39m\u001b[38;5;241m0.42015502\u001b[39m \u001b[38;5;241m-\u001b[39m\u001b[38;5;241m0.5990729\u001b[39m  \u001b[38;5;241m-\u001b[39m\u001b[38;5;241m1.4587569\u001b[39m  \u001b[38;5;241m-\u001b[39m\u001b[38;5;241m5.122465\u001b[39m   \u001b[38;5;241m-\u001b[39m\u001b[38;5;241m5.012219\u001b[39m\n\u001b[1;32m     10\u001b[0m    \u001b[38;5;241m-\u001b[39m\u001b[38;5;241m5.0874443\u001b[39m ]\n\u001b[1;32m     11\u001b[0m   [\u001b[38;5;241m-\u001b[39m\u001b[38;5;241m0.50835186\u001b[39m \u001b[38;5;241m-\u001b[39m\u001b[38;5;241m0.7621428\u001b[39m  \u001b[38;5;241m-\u001b[39m\u001b[38;5;241m1.2614765\u001b[39m  \u001b[38;5;241m-\u001b[39m\u001b[38;5;241m4.5355124\u001b[39m  \u001b[38;5;241m-\u001b[39m\u001b[38;5;241m4.517441\u001b[39m\n\u001b[1;32m     12\u001b[0m    \u001b[38;5;241m-\u001b[39m\u001b[38;5;241m4.587565\u001b[39m  ]]])\n",
      "\u001b[0;31mTypeError\u001b[0m: list indices must be integers or slices, not float"
     ]
    }
   ],
   "source": []
  },
  {
   "cell_type": "code",
   "execution_count": null,
   "id": "ae33129e-9de5-4a24-ab15-878d548842c3",
   "metadata": {},
   "outputs": [],
   "source": [
    "feature_extractor()"
   ]
  }
 ],
 "metadata": {
  "kernelspec": {
   "display_name": "Python 3 (ipykernel)",
   "language": "python",
   "name": "python3"
  },
  "language_info": {
   "codemirror_mode": {
    "name": "ipython",
    "version": 3
   },
   "file_extension": ".py",
   "mimetype": "text/x-python",
   "name": "python",
   "nbconvert_exporter": "python",
   "pygments_lexer": "ipython3",
   "version": "3.8.19"
  }
 },
 "nbformat": 4,
 "nbformat_minor": 5
}
