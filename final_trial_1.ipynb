{
 "cells": [
  {
   "cell_type": "code",
   "execution_count": 3,
   "id": "e2a0fe96-fe6b-42c5-8c7c-59173c42fe71",
   "metadata": {},
   "outputs": [],
   "source": [
    "import os\n",
    "import re\n",
    "import librosa \n",
    "import pickle"
   ]
  },
  {
   "cell_type": "code",
   "execution_count": 4,
   "id": "c71b2c7a-147b-466d-b8a7-52458c707285",
   "metadata": {},
   "outputs": [],
   "source": [
    "#hinglish dict\n",
    "with open('hinglish_dict.pkl', 'rb') as f:\n",
    "    hinglish_dict = pickle.load(f)\n",
    "\n",
    "#hindi transcriptions(unformatted)\n",
    "transcription = open('test/transcription.txt', 'r')\n",
    "lines = transcription.readlines()\n",
    "unformatted_transcripts = []\n",
    "for line in lines:\n",
    "    unformatted_transcripts.append(line.strip())"
   ]
  },
  {
   "cell_type": "code",
   "execution_count": 7,
   "id": "187f38ae-3389-4baf-ac6f-9fbfe6c6d9a6",
   "metadata": {},
   "outputs": [],
   "source": [
    "audio_path = 'test/audio'\n",
    "audio_files = os.listdir(audio_path)"
   ]
  },
  {
   "cell_type": "code",
   "execution_count": 8,
   "id": "efa0689e-e6da-430d-84f9-d883ea517523",
   "metadata": {},
   "outputs": [
    {
     "data": {
      "text/plain": [
       "3843"
      ]
     },
     "execution_count": 8,
     "metadata": {},
     "output_type": "execute_result"
    }
   ],
   "source": [
    "len(audio_files)"
   ]
  },
  {
   "cell_type": "code",
   "execution_count": 9,
   "id": "df7b8961-f0ab-4c50-a77f-d7cf8f436710",
   "metadata": {},
   "outputs": [
    {
     "name": "stdout",
     "output_type": "stream",
     "text": [
      "3843\n",
      "386\n"
     ]
    }
   ],
   "source": [
    "formatted_transcripts = []\n",
    "\n",
    "for transcript in unformatted_transcripts:\n",
    "  trans = re.sub(r'\\d+_\\d+', '', transcript)\n",
    "  \n",
    "  formatted_transcripts.append(trans.strip())\n",
    "\n",
    "print(len(formatted_transcripts))\n",
    "formatted_transcripts_set = set(formatted_transcripts)\n",
    "print(len(formatted_transcripts_set))"
   ]
  },
  {
   "cell_type": "code",
   "execution_count": 10,
   "id": "03075596-96e0-4170-b717-f76e6f607dee",
   "metadata": {},
   "outputs": [],
   "source": [
    "transcription_dict = {}\n",
    "\n",
    "for transcription in unformatted_transcripts:\n",
    "  audio_id = re.findall(r'\\d+_\\d+', transcription)[0]\n",
    "  trans = re.sub(r'\\d+_\\d+', '', transcription)\n",
    "  trans = ' '.join(trans.split())\n",
    "  transcription_dict[audio_id] = trans"
   ]
  },
  {
   "cell_type": "code",
   "execution_count": 15,
   "id": "2584f2e1-24c7-488e-8783-c408e78edc25",
   "metadata": {},
   "outputs": [],
   "source": [
    "import torch\n",
    "from torch.utils.data import Dataset\n",
    "\n",
    "class AudioDataset(Dataset):\n",
    "    def __init__(self, audio_files_path, transcription_dict, unformatted_transcripts, formatted_transcripts, hinglish_dict):\n",
    "        self.audio_files_path = audio_files_path\n",
    "        self.audio_files = os.listdir(audio_files_path)\n",
    "        self.transcription_dict = transcription_dict\n",
    "        self.unformatted_transcripts = unformatted_transcripts\n",
    "        self.formatted_transcripts = formatted_transcripts\n",
    "        self.hinglish_dict = hinglish_dict\n",
    "\n",
    "    def __len__(self):\n",
    "        return len(self.audio_files)\n",
    "\n",
    "    def __getitem__(self, idx):\n",
    "        #get audio file\n",
    "        audio_file = self.audio_files[idx]\n",
    "        #get audio num\n",
    "        audio_num = re.findall(r'\\d+_\\d+', audio_file)[0]\n",
    "        #speaker id\n",
    "        speaker_id = re.findall(r'\\d+', audio_num)[1]\n",
    "        #get transcription\n",
    "        hindi_transcription = self.transcription_dict[audio_num]\n",
    "        hinglish_transcription = self.hinglish_dict[hindi_transcription]\n",
    "\n",
    "        #get audio\n",
    "        y, sr = librosa.load(f'{self.audio_files_path}/{audio_file}', sr = None)\n",
    "\n",
    "        audio_dict = {\n",
    "            'data': y,\n",
    "            'sr': sr\n",
    "        }\n",
    "\n",
    "        return audio_dict, speaker_id, hindi_transcription, hinglish_transcription"
   ]
  },
  {
   "cell_type": "code",
   "execution_count": 16,
   "id": "07fd8d09-dc87-4386-8216-2ca502223f2b",
   "metadata": {},
   "outputs": [],
   "source": [
    "dataset = AudioDataset('sr_8000', transcription_dict, unformatted_transcripts, formatted_transcripts, hinglish_dict)"
   ]
  },
  {
   "cell_type": "code",
   "execution_count": 17,
   "id": "ec0060cd-1972-45f7-b1f8-bb4d328b6740",
   "metadata": {},
   "outputs": [],
   "source": [
    "from torch.utils.data import DataLoader\n",
    "trainloader = DataLoader(dataset, batch_size=1, shuffle=True)"
   ]
  },
  {
   "cell_type": "code",
   "execution_count": 18,
   "id": "fcb96218-78cd-414e-aa7f-685929255e9a",
   "metadata": {},
   "outputs": [],
   "source": [
    "audio_dict, speaker_id, hindi_transcription, hinglish_transcription = next(iter(trainloader))"
   ]
  },
  {
   "cell_type": "markdown",
   "id": "a53ee07c-fab0-42f5-87ad-9afe0f847d4b",
   "metadata": {},
   "source": [
    "# Speaker Embeddings"
   ]
  },
  {
   "cell_type": "code",
   "execution_count": 19,
   "id": "a0ed7f66-38a1-435c-9125-2a803fa77f4c",
   "metadata": {},
   "outputs": [
    {
     "name": "stderr",
     "output_type": "stream",
     "text": [
      "/Users/kawaii/opt/miniconda3/envs/hindi_transcribe/lib/python3.8/site-packages/speechbrain/utils/checkpoints.py:147: FutureWarning: You are using `torch.load` with `weights_only=False` (the current default value), which uses the default pickle module implicitly. It is possible to construct malicious pickle data which will execute arbitrary code during unpickling (See https://github.com/pytorch/pytorch/blob/main/SECURITY.md#untrusted-models for more details). In a future release, the default value for `weights_only` will be flipped to `True`. This limits the functions that could be executed during unpickling. Arbitrary objects will no longer be allowed to be loaded via this mode unless they are explicitly allowlisted by the user via `torch.serialization.add_safe_globals`. We recommend you start setting `weights_only=True` for any use case where you don't have full control of the loaded file. Please open an issue on GitHub for any issues related to this experimental feature.\n",
      "  torch.load(path, map_location=device), strict=False\n",
      "/Users/kawaii/opt/miniconda3/envs/hindi_transcribe/lib/python3.8/site-packages/speechbrain/processing/features.py:1215: FutureWarning: You are using `torch.load` with `weights_only=False` (the current default value), which uses the default pickle module implicitly. It is possible to construct malicious pickle data which will execute arbitrary code during unpickling (See https://github.com/pytorch/pytorch/blob/main/SECURITY.md#untrusted-models for more details). In a future release, the default value for `weights_only` will be flipped to `True`. This limits the functions that could be executed during unpickling. Arbitrary objects will no longer be allowed to be loaded via this mode unless they are explicitly allowlisted by the user via `torch.serialization.add_safe_globals`. We recommend you start setting `weights_only=True` for any use case where you don't have full control of the loaded file. Please open an issue on GitHub for any issues related to this experimental feature.\n",
      "  stats = torch.load(path, map_location=device)\n"
     ]
    }
   ],
   "source": [
    "# speaker embedding\n",
    "import os\n",
    "import torch\n",
    "import speechbrain\n",
    "import torchaudio\n",
    "from speechbrain.pretrained import EncoderClassifier\n",
    "\n",
    "spk_model_name = \"speechbrain/spkrec-xvect-voxceleb\"\n",
    "\n",
    "device = \"cuda\" if torch.cuda.is_available() else \"cpu\"\n",
    "speaker_model = EncoderClassifier.from_hparams(\n",
    "    source=spk_model_name,\n",
    "    run_opts={\"device\": device},\n",
    "    savedir=os.path.join(\"/tmp\", spk_model_name)\n",
    ")"
   ]
  },
  {
   "cell_type": "code",
   "execution_count": 20,
   "id": "b7b2a861-8f2f-496c-8d23-84c759977489",
   "metadata": {},
   "outputs": [],
   "source": [
    "def create_speaker_embedding(waveform):\n",
    "    with torch.no_grad():\n",
    "        speaker_embeddings = speaker_model.encode_batch(waveform)\n",
    "        speaker_embeddings = torch.nn.functional.normalize(speaker_embeddings, dim=2)\n",
    "        speaker_embeddings = speaker_embeddings.squeeze().cpu().numpy()\n",
    "    return speaker_embeddings"
   ]
  },
  {
   "cell_type": "code",
   "execution_count": null,
   "id": "5958a83c-be8f-466c-9216-0b19bade67c4",
   "metadata": {},
   "outputs": [],
   "source": [
    "def padding_speechT5()"
   ]
  },
  {
   "cell_type": "code",
   "execution_count": null,
   "id": "54f8131f-eb2e-4594-ba60-49cbf6bb9270",
   "metadata": {},
   "outputs": [],
   "source": [
    "def prepare_dataset(audio_dict, hinglish_transcript, sample_rate):\n",
    "    audio = audio_dict\n",
    "\n",
    "    example = processor(\n",
    "        text = hinglish_transcript[0],\n",
    "        audio_target = np.squeeze(audio_dict[\"data\"]), \n",
    "        sampling_rate = sample_rate,\n",
    "        return_attention_mask=False,\n",
    "    )\n",
    "\n",
    "    # use SpeechBrain to obtain x-vector\n",
    "    example[\"speaker_embeddings\"] = create_speaker_embedding(np.squeeze(audio_dict[\"data\"]))\n",
    "\n",
    "    return example"
   ]
  }
 ],
 "metadata": {
  "kernelspec": {
   "display_name": "Python 3 (ipykernel)",
   "language": "python",
   "name": "python3"
  },
  "language_info": {
   "codemirror_mode": {
    "name": "ipython",
    "version": 3
   },
   "file_extension": ".py",
   "mimetype": "text/x-python",
   "name": "python",
   "nbconvert_exporter": "python",
   "pygments_lexer": "ipython3",
   "version": "3.8.19"
  }
 },
 "nbformat": 4,
 "nbformat_minor": 5
}
