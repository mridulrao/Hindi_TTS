{
 "cells": [
  {
   "cell_type": "code",
   "execution_count": 1,
   "id": "f3d414ed-d73e-4559-b052-b3ce29c08d63",
   "metadata": {},
   "outputs": [],
   "source": [
    "from scipy.io import wavfile\n",
    "samplerate, data = wavfile.read('test/audio/0116_003.wav')"
   ]
  },
  {
   "cell_type": "code",
   "execution_count": 2,
   "id": "49021c95-1756-46a0-9f25-15c29b3dacd7",
   "metadata": {},
   "outputs": [
    {
     "data": {
      "text/plain": [
       "8000"
      ]
     },
     "execution_count": 2,
     "metadata": {},
     "output_type": "execute_result"
    }
   ],
   "source": [
    "samplerate"
   ]
  },
  {
   "cell_type": "code",
   "execution_count": 4,
   "id": "a2ec8209-92d5-43aa-9d36-1c42e091180a",
   "metadata": {},
   "outputs": [],
   "source": [
    "# from scipy.signal import resample\n",
    "# new_sr = 16000\n",
    "# new_num_samples = int(len(data) * new_sr / samplerate)\n",
    "# data_resampled = resample(data, new_num_samples)\n",
    "# wavfile.write(\"0116_003_resample.wav\", new_sr, data_resampled)\n",
    "\n",
    "\n",
    "#librosa\n",
    "import librosa\n",
    "y, sr = librosa.load('test/audio/0116_003.wav', sr=None)\n",
    "new_sr = 16000\n",
    "y_resampled = librosa.resample(y, orig_sr=sr, target_sr=new_sr)\n",
    "\n",
    "import soundfile as sf\n",
    "sf.write(\"0116_003_resample.wav\", y_resampled, new_sr)"
   ]
  },
  {
   "cell_type": "code",
   "execution_count": 5,
   "id": "29458ba5-d889-46f7-81d0-957a8357cf1e",
   "metadata": {},
   "outputs": [],
   "source": [
    "y, sr = librosa.load(\"0116_003_resample.wav\", sr=None)"
   ]
  },
  {
   "cell_type": "code",
   "execution_count": 6,
   "id": "016986f3-283e-44d2-b8ff-bbbf5ccd9756",
   "metadata": {},
   "outputs": [
    {
     "data": {
      "text/plain": [
       "16000"
      ]
     },
     "execution_count": 6,
     "metadata": {},
     "output_type": "execute_result"
    }
   ],
   "source": [
    "sr"
   ]
  },
  {
   "cell_type": "code",
   "execution_count": 9,
   "id": "d6674109-5cd6-4a93-a65e-a095c4a4171f",
   "metadata": {},
   "outputs": [],
   "source": [
    "import os\n",
    "audio_path = 'test/audio'\n",
    "audio_files = os.listdir(audio_path)"
   ]
  },
  {
   "cell_type": "code",
   "execution_count": 11,
   "id": "38d0359f-ee1d-40f9-b748-22050da24de2",
   "metadata": {},
   "outputs": [
    {
     "name": "stderr",
     "output_type": "stream",
     "text": [
      " 68%|█████████████████████████████████████████████████████████████████████▌                                | 2619/3843 [00:08<00:03, 321.03it/s]\n"
     ]
    },
    {
     "ename": "LibsndfileError",
     "evalue": "System error.",
     "output_type": "error",
     "traceback": [
      "\u001b[0;31m---------------------------------------------------------------------------\u001b[0m",
      "\u001b[0;31mLibsndfileError\u001b[0m                           Traceback (most recent call last)",
      "Cell \u001b[0;32mIn[11], line 14\u001b[0m\n\u001b[1;32m     11\u001b[0m y_resampled \u001b[38;5;241m=\u001b[39m librosa\u001b[38;5;241m.\u001b[39mresample(y, orig_sr \u001b[38;5;241m=\u001b[39m sr, target_sr \u001b[38;5;241m=\u001b[39m new_sr)\n\u001b[1;32m     13\u001b[0m audio_num \u001b[38;5;241m=\u001b[39m re\u001b[38;5;241m.\u001b[39mfindall(\u001b[38;5;124mr\u001b[39m\u001b[38;5;124m'\u001b[39m\u001b[38;5;124m\\\u001b[39m\u001b[38;5;124md+_\u001b[39m\u001b[38;5;124m\\\u001b[39m\u001b[38;5;124md+\u001b[39m\u001b[38;5;124m'\u001b[39m, file_name)[\u001b[38;5;241m0\u001b[39m]\n\u001b[0;32m---> 14\u001b[0m \u001b[43msf\u001b[49m\u001b[38;5;241;43m.\u001b[39;49m\u001b[43mwrite\u001b[49m\u001b[43m(\u001b[49m\u001b[38;5;124;43mf\u001b[39;49m\u001b[38;5;124;43m\"\u001b[39;49m\u001b[38;5;124;43msr_16000_librosa/\u001b[39;49m\u001b[38;5;132;43;01m{\u001b[39;49;00m\u001b[43maudio_num\u001b[49m\u001b[38;5;132;43;01m}\u001b[39;49;00m\u001b[38;5;124;43m_resample.wav\u001b[39;49m\u001b[38;5;124;43m\"\u001b[39;49m\u001b[43m,\u001b[49m\u001b[43m \u001b[49m\u001b[43my_resampled\u001b[49m\u001b[43m,\u001b[49m\u001b[43m \u001b[49m\u001b[43mnew_sr\u001b[49m\u001b[43m)\u001b[49m\n",
      "File \u001b[0;32m~/opt/miniconda3/envs/hindi_transcribe/lib/python3.8/site-packages/soundfile.py:345\u001b[0m, in \u001b[0;36mwrite\u001b[0;34m(file, data, samplerate, subtype, endian, format, closefd)\u001b[0m\n\u001b[1;32m    342\u001b[0m     channels \u001b[38;5;241m=\u001b[39m data\u001b[38;5;241m.\u001b[39mshape[\u001b[38;5;241m1\u001b[39m]\n\u001b[1;32m    343\u001b[0m \u001b[38;5;28;01mwith\u001b[39;00m SoundFile(file, \u001b[38;5;124m'\u001b[39m\u001b[38;5;124mw\u001b[39m\u001b[38;5;124m'\u001b[39m, samplerate, channels,\n\u001b[1;32m    344\u001b[0m                subtype, endian, \u001b[38;5;28mformat\u001b[39m, closefd) \u001b[38;5;28;01mas\u001b[39;00m f:\n\u001b[0;32m--> 345\u001b[0m     \u001b[43mf\u001b[49m\u001b[38;5;241;43m.\u001b[39;49m\u001b[43mwrite\u001b[49m\u001b[43m(\u001b[49m\u001b[43mdata\u001b[49m\u001b[43m)\u001b[49m\n",
      "File \u001b[0;32m~/opt/miniconda3/envs/hindi_transcribe/lib/python3.8/site-packages/soundfile.py:1020\u001b[0m, in \u001b[0;36mSoundFile.write\u001b[0;34m(self, data)\u001b[0m\n\u001b[1;32m   1018\u001b[0m \u001b[38;5;66;03m# no copy is made if data has already the correct memory layout:\u001b[39;00m\n\u001b[1;32m   1019\u001b[0m data \u001b[38;5;241m=\u001b[39m np\u001b[38;5;241m.\u001b[39mascontiguousarray(data)\n\u001b[0;32m-> 1020\u001b[0m written \u001b[38;5;241m=\u001b[39m \u001b[38;5;28;43mself\u001b[39;49m\u001b[38;5;241;43m.\u001b[39;49m\u001b[43m_array_io\u001b[49m\u001b[43m(\u001b[49m\u001b[38;5;124;43m'\u001b[39;49m\u001b[38;5;124;43mwrite\u001b[39;49m\u001b[38;5;124;43m'\u001b[39;49m\u001b[43m,\u001b[49m\u001b[43m \u001b[49m\u001b[43mdata\u001b[49m\u001b[43m,\u001b[49m\u001b[43m \u001b[49m\u001b[38;5;28;43mlen\u001b[39;49m\u001b[43m(\u001b[49m\u001b[43mdata\u001b[49m\u001b[43m)\u001b[49m\u001b[43m)\u001b[49m\n\u001b[1;32m   1021\u001b[0m \u001b[38;5;28;01massert\u001b[39;00m written \u001b[38;5;241m==\u001b[39m \u001b[38;5;28mlen\u001b[39m(data)\n\u001b[1;32m   1022\u001b[0m \u001b[38;5;28mself\u001b[39m\u001b[38;5;241m.\u001b[39m_update_frames(written)\n",
      "File \u001b[0;32m~/opt/miniconda3/envs/hindi_transcribe/lib/python3.8/site-packages/soundfile.py:1344\u001b[0m, in \u001b[0;36mSoundFile._array_io\u001b[0;34m(self, action, array, frames)\u001b[0m\n\u001b[1;32m   1342\u001b[0m \u001b[38;5;28;01massert\u001b[39;00m array\u001b[38;5;241m.\u001b[39mdtype\u001b[38;5;241m.\u001b[39mitemsize \u001b[38;5;241m==\u001b[39m _ffi\u001b[38;5;241m.\u001b[39msizeof(ctype)\n\u001b[1;32m   1343\u001b[0m cdata \u001b[38;5;241m=\u001b[39m _ffi\u001b[38;5;241m.\u001b[39mcast(ctype \u001b[38;5;241m+\u001b[39m \u001b[38;5;124m'\u001b[39m\u001b[38;5;124m*\u001b[39m\u001b[38;5;124m'\u001b[39m, array\u001b[38;5;241m.\u001b[39m__array_interface__[\u001b[38;5;124m'\u001b[39m\u001b[38;5;124mdata\u001b[39m\u001b[38;5;124m'\u001b[39m][\u001b[38;5;241m0\u001b[39m])\n\u001b[0;32m-> 1344\u001b[0m \u001b[38;5;28;01mreturn\u001b[39;00m \u001b[38;5;28;43mself\u001b[39;49m\u001b[38;5;241;43m.\u001b[39;49m\u001b[43m_cdata_io\u001b[49m\u001b[43m(\u001b[49m\u001b[43maction\u001b[49m\u001b[43m,\u001b[49m\u001b[43m \u001b[49m\u001b[43mcdata\u001b[49m\u001b[43m,\u001b[49m\u001b[43m \u001b[49m\u001b[43mctype\u001b[49m\u001b[43m,\u001b[49m\u001b[43m \u001b[49m\u001b[43mframes\u001b[49m\u001b[43m)\u001b[49m\n",
      "File \u001b[0;32m~/opt/miniconda3/envs/hindi_transcribe/lib/python3.8/site-packages/soundfile.py:1354\u001b[0m, in \u001b[0;36mSoundFile._cdata_io\u001b[0;34m(self, action, data, ctype, frames)\u001b[0m\n\u001b[1;32m   1352\u001b[0m func \u001b[38;5;241m=\u001b[39m \u001b[38;5;28mgetattr\u001b[39m(_snd, \u001b[38;5;124m'\u001b[39m\u001b[38;5;124msf_\u001b[39m\u001b[38;5;124m'\u001b[39m \u001b[38;5;241m+\u001b[39m action \u001b[38;5;241m+\u001b[39m \u001b[38;5;124m'\u001b[39m\u001b[38;5;124mf_\u001b[39m\u001b[38;5;124m'\u001b[39m \u001b[38;5;241m+\u001b[39m ctype)\n\u001b[1;32m   1353\u001b[0m frames \u001b[38;5;241m=\u001b[39m func(\u001b[38;5;28mself\u001b[39m\u001b[38;5;241m.\u001b[39m_file, data, frames)\n\u001b[0;32m-> 1354\u001b[0m \u001b[43m_error_check\u001b[49m\u001b[43m(\u001b[49m\u001b[38;5;28;43mself\u001b[39;49m\u001b[38;5;241;43m.\u001b[39;49m\u001b[43m_errorcode\u001b[49m\u001b[43m)\u001b[49m\n\u001b[1;32m   1355\u001b[0m \u001b[38;5;28;01mif\u001b[39;00m \u001b[38;5;28mself\u001b[39m\u001b[38;5;241m.\u001b[39mseekable():\n\u001b[1;32m   1356\u001b[0m     \u001b[38;5;28mself\u001b[39m\u001b[38;5;241m.\u001b[39mseek(curr \u001b[38;5;241m+\u001b[39m frames, SEEK_SET)  \u001b[38;5;66;03m# Update read & write position\u001b[39;00m\n",
      "File \u001b[0;32m~/opt/miniconda3/envs/hindi_transcribe/lib/python3.8/site-packages/soundfile.py:1407\u001b[0m, in \u001b[0;36m_error_check\u001b[0;34m(err, prefix)\u001b[0m\n\u001b[1;32m   1405\u001b[0m \u001b[38;5;250m\u001b[39m\u001b[38;5;124;03m\"\"\"Raise LibsndfileError if there is an error.\"\"\"\u001b[39;00m\n\u001b[1;32m   1406\u001b[0m \u001b[38;5;28;01mif\u001b[39;00m err \u001b[38;5;241m!=\u001b[39m \u001b[38;5;241m0\u001b[39m:\n\u001b[0;32m-> 1407\u001b[0m     \u001b[38;5;28;01mraise\u001b[39;00m LibsndfileError(err, prefix\u001b[38;5;241m=\u001b[39mprefix)\n",
      "\u001b[0;31mLibsndfileError\u001b[0m: System error."
     ]
    }
   ],
   "source": [
    "#convert each audio sample\n",
    "from tqdm import tqdm\n",
    "import re\n",
    "\n",
    "#new sample rate\n",
    "new_sr = 16000\n",
    "\n",
    "for audio in tqdm(audio_files):\n",
    "    file_name = audio\n",
    "    y, sr = librosa.load(f'test/audio/{file_name}', sr=None)\n",
    "    y_resampled = librosa.resample(y, orig_sr = sr, target_sr = new_sr)\n",
    "    \n",
    "    audio_num = re.findall(r'\\d+_\\d+', file_name)[0]\n",
    "    sf.write(f\"sr_16000_librosa/{audio_num}_resample.wav\", y_resampled, new_sr)"
   ]
  },
  {
   "cell_type": "code",
   "execution_count": null,
   "id": "ca454438-c2d7-430c-9284-0fbeaba2cea3",
   "metadata": {},
   "outputs": [],
   "source": []
  }
 ],
 "metadata": {
  "kernelspec": {
   "display_name": "Python 3 (ipykernel)",
   "language": "python",
   "name": "python3"
  },
  "language_info": {
   "codemirror_mode": {
    "name": "ipython",
    "version": 3
   },
   "file_extension": ".py",
   "mimetype": "text/x-python",
   "name": "python",
   "nbconvert_exporter": "python",
   "pygments_lexer": "ipython3",
   "version": "3.8.19"
  }
 },
 "nbformat": 4,
 "nbformat_minor": 5
}
